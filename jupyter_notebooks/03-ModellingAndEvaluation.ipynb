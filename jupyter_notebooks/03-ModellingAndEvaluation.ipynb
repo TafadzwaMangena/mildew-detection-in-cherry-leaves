{
 "cells": [
  {
   "cell_type": "markdown",
   "id": "f0b7dc3f",
   "metadata": {},
   "source": [
    "# Data Modelling & Evalutaion"
   ]
  },
  {
   "cell_type": "markdown",
   "id": "8f2c827d",
   "metadata": {},
   "source": [
    "## Objectives"
   ]
  },
  {
   "cell_type": "markdown",
   "id": "f809d70a",
   "metadata": {},
   "source": [
    "- This notebook will address business requirtement 2:\n",
    "    - To determine whether given leaves are infected with powdery mildew or are healthy."
   ]
  },
  {
   "cell_type": "markdown",
   "id": "fef01408",
   "metadata": {},
   "source": [
    "## Inputs"
   ]
  },
  {
   "cell_type": "markdown",
   "id": "c744ee0e",
   "metadata": {},
   "source": [
    "- inputs/cherry-leaves_dataset/cherry-leaves/train\n",
    "- inputs/cherry-leaves_dataset/cherry-leaves/test\n",
    "- inputs/cherry-leaves_dataset/cherry-leaves/validation\n",
    "- Image shape embeddings"
   ]
  },
  {
   "cell_type": "markdown",
   "id": "a10b4c50",
   "metadata": {},
   "source": [
    "## Outputs"
   ]
  },
  {
   "cell_type": "markdown",
   "id": "b59040ed",
   "metadata": {},
   "source": [
    "- Plot in of image distribution in train, validation, and test set.\n",
    "- Image augmentation.\n",
    "- Class indices to change prediction inference in labels.\n",
    "- Machine learning model creation and training.\n",
    "- Save model.\n",
    "- Learning curve plot for model performance.\n",
    "- Model evaluation on pickle file.\n",
    "- Prediction on the random image file."
   ]
  },
  {
   "cell_type": "markdown",
   "id": "94d8311e",
   "metadata": {},
   "source": [
    "---"
   ]
  }
 ],
 "metadata": {
  "language_info": {
   "name": "python"
  }
 },
 "nbformat": 4,
 "nbformat_minor": 5
}
