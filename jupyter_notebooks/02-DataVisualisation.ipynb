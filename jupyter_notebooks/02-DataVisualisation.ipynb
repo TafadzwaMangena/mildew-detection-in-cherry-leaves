{
 "cells": [
  {
   "cell_type": "markdown",
   "id": "c3f65f58",
   "metadata": {},
   "source": [
    "# Data Visualisation"
   ]
  },
  {
   "cell_type": "markdown",
   "id": "1e84b185",
   "metadata": {},
   "source": [
    "## Objectives"
   ]
  },
  {
   "cell_type": "markdown",
   "id": "19a075e7",
   "metadata": {},
   "source": [
    "- This notebook addresses Business Requirement 1: \n",
    "- analyzing and visualizing the differences between healthy leaves and those affected by mildew."
   ]
  },
  {
   "cell_type": "markdown",
   "id": "edac97cc",
   "metadata": {},
   "source": [
    "## Inputs"
   ]
  },
  {
   "cell_type": "markdown",
   "id": "36d1b374",
   "metadata": {},
   "source": [
    "- inputs/cherry-leaves_dataset/cherry-leaves/train\n",
    "- inputs/cherry-leaves_dataset/cherry-leaves/validation\n",
    "- inputs/cherry-leaves_dataset/cherry-leaves/test"
   ]
  },
  {
   "cell_type": "markdown",
   "id": "09595a42",
   "metadata": {},
   "source": [
    "## Outputs"
   ]
  },
  {
   "cell_type": "markdown",
   "id": "7723a7a0",
   "metadata": {},
   "source": [
    "- Image shape embeddings pickle files.\n",
    "- Visualizations of image mean and variability are provided for each label.\n",
    "- A contrast plot highlights differences between leaves with and without mildew.\n",
    "- A randomly generated montage displays both healthy and unhealthy leaves."
   ]
  },
  {
   "cell_type": "markdown",
   "id": "71eded74",
   "metadata": {},
   "source": [
    "## Additional Comments | Insights | Conclusions"
   ]
  },
  {
   "cell_type": "markdown",
   "id": "e82b8424",
   "metadata": {},
   "source": [
    "- This notebook outlines steps that offer data insights and include code to address Business Requirement 1."
   ]
  },
  {
   "cell_type": "markdown",
   "id": "bd9e1583",
   "metadata": {},
   "source": [
    "---"
   ]
  },
  {
   "cell_type": "markdown",
   "id": "2928a339",
   "metadata": {},
   "source": [
    "## Import Libraries"
   ]
  }
 ],
 "metadata": {
  "language_info": {
   "name": "python"
  }
 },
 "nbformat": 4,
 "nbformat_minor": 5
}
